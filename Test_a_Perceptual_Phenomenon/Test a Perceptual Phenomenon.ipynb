{
 "cells": [
  {
   "cell_type": "markdown",
   "metadata": {},
   "source": [
    "### Analyzing the Stroop Effect\n",
    "Perform the analysis in the space below. Remember to follow [the instructions](https://docs.google.com/document/d/1-OkpZLjG_kX9J6LIQ5IltsqMzVWjh36QpnP2RYpVdPU/pub?embedded=True) and review the [project rubric](https://review.udacity.com/#!/rubrics/71/view) before submitting. Once you've completed the analysis and write up, download this file as a PDF or HTML file and submit in the next section.\n",
    "\n",
    "<strong>(1) What is the independent variable? What is the dependent variable?</strong>"
   ]
  },
  {
   "cell_type": "markdown",
   "metadata": {},
   "source": [
    "<ul>\n",
    "<li> Independent : Word Condition (Congruent or Incongruent)\n",
    "<li> Dependent   : Response Time in seconds\n",
    "<ul>"
   ]
  },
  {
   "cell_type": "markdown",
   "metadata": {},
   "source": [
    "<strong>(2) What is an appropriate set of hypotheses for this task? What kind of statistical test do you expect to perform? Justify your choices.</strong>"
   ]
  },
  {
   "cell_type": "markdown",
   "metadata": {},
   "source": [
    "Hypothesis testing and confidence intervals allow us to use only sample data to draw conlusions about the entire population. Normally the \"Null\" hypothesis gives the current fact. Alternative hypothesis is to be needed to prove.\n",
    "\n",
    "In stroop effect data we have to sample from the same population. So using a t-test will be appropriate for the sample population testing. T-test; compares two averages (means) and tells you if they are different from each other. The t test also tells you how significant the differences are; In other words it lets you know if those differences could have happened by chance.\n",
    "\n",
    "Since same population try the test for the two condition, we can say it is a <strong>paired t-test.</strong>. In paired t-test, we have two population which have same properties, so we can match the one member of a population to the other member of population. \n",
    "\n",
    "A paired t-test is used to compare two population means where you have two samples in which observations in one sample can be paired with observations in the other sample. Examples of where this might occur are:\n",
    "<ul>\n",
    "    <li>Before-and-after observations on the same subjects (e.g. students’ diagnostic test results before and after a particular module or course).\n",
    "    <li>A comparison of two different methods of measurement or two different treatments where the measurements/treatments are applied to the same subjects (e.g. blood pressure measurements using a stethoscope and a dynamap)\n",
    "</ul>\n",
    "\n",
    "\" \"Paired samples\" are when observations are made on pairs of units which are similar in some respect. Usually one treatment is applied to one member of each pair and not to the other which serves as the control. \"\n",
    "\n",
    "In stroop effect, we can state the null hypothesis as there is no difference between the congruent and incongruent response times. So the alternative hypothesis is set to the inequality which is \"there is a significant difference\" between the response times.\n",
    "\n",
    "<ul>\n",
    "<li> H0 (Null)        : ( μi - μc = 0 ) \n",
    "<li> H1 (Alternative) : ( μi - μc ≠ 0 ) \n",
    "\n",
    "According to the t-test definition  we can use t-test for these hypothesis.\n"
   ]
  },
  {
   "cell_type": "markdown",
   "metadata": {},
   "source": [
    "<strong>(3) Report some descriptive statistics regarding this dataset. Include at least one measure of central tendency and at least one measure of variability. The name of the data file is 'stroopdata.csv'.</strong>"
   ]
  },
  {
   "cell_type": "code",
   "execution_count": 16,
   "metadata": {},
   "outputs": [],
   "source": [
    "# Perform the analysis here\n",
    "\n",
    "# Load the needed packages\n",
    "import pandas as pd\n",
    "import numpy as np\n",
    "import random\n",
    "import os as os\n",
    "import matplotlib.pyplot as plt\n",
    "%matplotlib inline"
   ]
  },
  {
   "cell_type": "code",
   "execution_count": 17,
   "metadata": {},
   "outputs": [],
   "source": [
    "path = \"C:/Users/TCZEHCAN.TURKCELL/Documents/UDACITY\"\n",
    "os.chdir(path)"
   ]
  },
  {
   "cell_type": "code",
   "execution_count": 18,
   "metadata": {
    "scrolled": true
   },
   "outputs": [
    {
     "data": {
      "text/html": [
       "<div>\n",
       "<style scoped>\n",
       "    .dataframe tbody tr th:only-of-type {\n",
       "        vertical-align: middle;\n",
       "    }\n",
       "\n",
       "    .dataframe tbody tr th {\n",
       "        vertical-align: top;\n",
       "    }\n",
       "\n",
       "    .dataframe thead th {\n",
       "        text-align: right;\n",
       "    }\n",
       "</style>\n",
       "<table border=\"1\" class=\"dataframe\">\n",
       "  <thead>\n",
       "    <tr style=\"text-align: right;\">\n",
       "      <th></th>\n",
       "      <th>Congruent</th>\n",
       "      <th>Incongruent</th>\n",
       "    </tr>\n",
       "  </thead>\n",
       "  <tbody>\n",
       "    <tr>\n",
       "      <th>0</th>\n",
       "      <td>12.079</td>\n",
       "      <td>19.278</td>\n",
       "    </tr>\n",
       "    <tr>\n",
       "      <th>1</th>\n",
       "      <td>16.791</td>\n",
       "      <td>18.741</td>\n",
       "    </tr>\n",
       "    <tr>\n",
       "      <th>2</th>\n",
       "      <td>9.564</td>\n",
       "      <td>21.214</td>\n",
       "    </tr>\n",
       "    <tr>\n",
       "      <th>3</th>\n",
       "      <td>8.630</td>\n",
       "      <td>15.687</td>\n",
       "    </tr>\n",
       "    <tr>\n",
       "      <th>4</th>\n",
       "      <td>14.669</td>\n",
       "      <td>22.803</td>\n",
       "    </tr>\n",
       "  </tbody>\n",
       "</table>\n",
       "</div>"
      ],
      "text/plain": [
       "   Congruent  Incongruent\n",
       "0     12.079       19.278\n",
       "1     16.791       18.741\n",
       "2      9.564       21.214\n",
       "3      8.630       15.687\n",
       "4     14.669       22.803"
      ]
     },
     "execution_count": 18,
     "metadata": {},
     "output_type": "execute_result"
    }
   ],
   "source": [
    "df = pd.read_csv('stroopdata.csv')    \n",
    "df.head()"
   ]
  },
  {
   "cell_type": "code",
   "execution_count": 19,
   "metadata": {},
   "outputs": [
    {
     "data": {
      "text/html": [
       "<div>\n",
       "<style scoped>\n",
       "    .dataframe tbody tr th:only-of-type {\n",
       "        vertical-align: middle;\n",
       "    }\n",
       "\n",
       "    .dataframe tbody tr th {\n",
       "        vertical-align: top;\n",
       "    }\n",
       "\n",
       "    .dataframe thead th {\n",
       "        text-align: right;\n",
       "    }\n",
       "</style>\n",
       "<table border=\"1\" class=\"dataframe\">\n",
       "  <thead>\n",
       "    <tr style=\"text-align: right;\">\n",
       "      <th></th>\n",
       "      <th>Congruent</th>\n",
       "      <th>Incongruent</th>\n",
       "      <th>Subject</th>\n",
       "    </tr>\n",
       "  </thead>\n",
       "  <tbody>\n",
       "    <tr>\n",
       "      <th>0</th>\n",
       "      <td>12.079</td>\n",
       "      <td>19.278</td>\n",
       "      <td>1</td>\n",
       "    </tr>\n",
       "    <tr>\n",
       "      <th>1</th>\n",
       "      <td>16.791</td>\n",
       "      <td>18.741</td>\n",
       "      <td>2</td>\n",
       "    </tr>\n",
       "    <tr>\n",
       "      <th>2</th>\n",
       "      <td>9.564</td>\n",
       "      <td>21.214</td>\n",
       "      <td>3</td>\n",
       "    </tr>\n",
       "    <tr>\n",
       "      <th>3</th>\n",
       "      <td>8.630</td>\n",
       "      <td>15.687</td>\n",
       "      <td>4</td>\n",
       "    </tr>\n",
       "    <tr>\n",
       "      <th>4</th>\n",
       "      <td>14.669</td>\n",
       "      <td>22.803</td>\n",
       "      <td>5</td>\n",
       "    </tr>\n",
       "    <tr>\n",
       "      <th>5</th>\n",
       "      <td>12.238</td>\n",
       "      <td>20.878</td>\n",
       "      <td>6</td>\n",
       "    </tr>\n",
       "    <tr>\n",
       "      <th>6</th>\n",
       "      <td>14.692</td>\n",
       "      <td>24.572</td>\n",
       "      <td>7</td>\n",
       "    </tr>\n",
       "    <tr>\n",
       "      <th>7</th>\n",
       "      <td>8.987</td>\n",
       "      <td>17.394</td>\n",
       "      <td>8</td>\n",
       "    </tr>\n",
       "    <tr>\n",
       "      <th>8</th>\n",
       "      <td>9.401</td>\n",
       "      <td>20.762</td>\n",
       "      <td>9</td>\n",
       "    </tr>\n",
       "    <tr>\n",
       "      <th>9</th>\n",
       "      <td>14.480</td>\n",
       "      <td>26.282</td>\n",
       "      <td>10</td>\n",
       "    </tr>\n",
       "    <tr>\n",
       "      <th>10</th>\n",
       "      <td>22.328</td>\n",
       "      <td>24.524</td>\n",
       "      <td>11</td>\n",
       "    </tr>\n",
       "    <tr>\n",
       "      <th>11</th>\n",
       "      <td>15.298</td>\n",
       "      <td>18.644</td>\n",
       "      <td>12</td>\n",
       "    </tr>\n",
       "    <tr>\n",
       "      <th>12</th>\n",
       "      <td>15.073</td>\n",
       "      <td>17.510</td>\n",
       "      <td>13</td>\n",
       "    </tr>\n",
       "    <tr>\n",
       "      <th>13</th>\n",
       "      <td>16.929</td>\n",
       "      <td>20.330</td>\n",
       "      <td>14</td>\n",
       "    </tr>\n",
       "    <tr>\n",
       "      <th>14</th>\n",
       "      <td>18.200</td>\n",
       "      <td>35.255</td>\n",
       "      <td>15</td>\n",
       "    </tr>\n",
       "    <tr>\n",
       "      <th>15</th>\n",
       "      <td>12.130</td>\n",
       "      <td>22.158</td>\n",
       "      <td>16</td>\n",
       "    </tr>\n",
       "    <tr>\n",
       "      <th>16</th>\n",
       "      <td>18.495</td>\n",
       "      <td>25.139</td>\n",
       "      <td>17</td>\n",
       "    </tr>\n",
       "    <tr>\n",
       "      <th>17</th>\n",
       "      <td>10.639</td>\n",
       "      <td>20.429</td>\n",
       "      <td>18</td>\n",
       "    </tr>\n",
       "    <tr>\n",
       "      <th>18</th>\n",
       "      <td>11.344</td>\n",
       "      <td>17.425</td>\n",
       "      <td>19</td>\n",
       "    </tr>\n",
       "    <tr>\n",
       "      <th>19</th>\n",
       "      <td>12.369</td>\n",
       "      <td>34.288</td>\n",
       "      <td>20</td>\n",
       "    </tr>\n",
       "    <tr>\n",
       "      <th>20</th>\n",
       "      <td>12.944</td>\n",
       "      <td>23.894</td>\n",
       "      <td>21</td>\n",
       "    </tr>\n",
       "    <tr>\n",
       "      <th>21</th>\n",
       "      <td>14.233</td>\n",
       "      <td>17.960</td>\n",
       "      <td>22</td>\n",
       "    </tr>\n",
       "    <tr>\n",
       "      <th>22</th>\n",
       "      <td>19.710</td>\n",
       "      <td>22.058</td>\n",
       "      <td>23</td>\n",
       "    </tr>\n",
       "    <tr>\n",
       "      <th>23</th>\n",
       "      <td>16.004</td>\n",
       "      <td>21.157</td>\n",
       "      <td>24</td>\n",
       "    </tr>\n",
       "  </tbody>\n",
       "</table>\n",
       "</div>"
      ],
      "text/plain": [
       "    Congruent  Incongruent  Subject\n",
       "0      12.079       19.278        1\n",
       "1      16.791       18.741        2\n",
       "2       9.564       21.214        3\n",
       "3       8.630       15.687        4\n",
       "4      14.669       22.803        5\n",
       "5      12.238       20.878        6\n",
       "6      14.692       24.572        7\n",
       "7       8.987       17.394        8\n",
       "8       9.401       20.762        9\n",
       "9      14.480       26.282       10\n",
       "10     22.328       24.524       11\n",
       "11     15.298       18.644       12\n",
       "12     15.073       17.510       13\n",
       "13     16.929       20.330       14\n",
       "14     18.200       35.255       15\n",
       "15     12.130       22.158       16\n",
       "16     18.495       25.139       17\n",
       "17     10.639       20.429       18\n",
       "18     11.344       17.425       19\n",
       "19     12.369       34.288       20\n",
       "20     12.944       23.894       21\n",
       "21     14.233       17.960       22\n",
       "22     19.710       22.058       23\n",
       "23     16.004       21.157       24"
      ]
     },
     "execution_count": 19,
     "metadata": {},
     "output_type": "execute_result"
    }
   ],
   "source": [
    "df['Subject'] = df.index+1\n",
    "df"
   ]
  },
  {
   "cell_type": "code",
   "execution_count": 20,
   "metadata": {},
   "outputs": [
    {
     "name": "stdout",
     "output_type": "stream",
     "text": [
      "\n",
      "Congruent\n",
      "Mean(time)\t Median(time)\t Std(time)\n",
      "14.051125 \t 14.3565 \t 3.55935795765\n",
      "\n",
      "Incongruent\n",
      "Mean(time)\t Median(time)\t Std(time)\n",
      "22.0159166667 \t 21.0175 \t 4.79705712247\n"
     ]
    }
   ],
   "source": [
    "cong = np.asarray(df['Congruent'])\n",
    "incong = np.asarray(df['Incongruent'])\n",
    "\n",
    "# Display Descriptive stats\n",
    "#show_stats(cong, 'Congruent', 'time')\n",
    "heading = 'Congruent'\n",
    "unit = 'time'\n",
    "print()\n",
    "mean = np.mean(cong)\n",
    "median = np.median(cong)\n",
    "std = np.std(cong, ddof=1)\n",
    "print(heading)\n",
    "print('Mean(' + unit + ')\\t', 'Median(' + unit + ')\\t', 'Std(' + unit + ')')\n",
    "print(mean, '\\t', median, '\\t', std)\n",
    "\n",
    "#show_stats(incong, 'Incongruent', 'time')\n",
    "heading = 'Incongruent'\n",
    "unit = 'time'\n",
    "print()\n",
    "mean = np.mean(incong)\n",
    "median = np.median(incong)\n",
    "std = np.std(incong, ddof=1)\n",
    "print(heading)\n",
    "print('Mean(' + unit + ')\\t', 'Median(' + unit + ')\\t', 'Std(' + unit + ')')\n",
    "print(mean, '\\t', median, '\\t', std)\n"
   ]
  },
  {
   "cell_type": "markdown",
   "metadata": {},
   "source": [
    "<strong>(4) Provide one or two visualizations that show the distribution of the sample data. Write one or two sentences noting what you observe about the plot or plots.</strong>"
   ]
  },
  {
   "cell_type": "code",
   "execution_count": 13,
   "metadata": {},
   "outputs": [
    {
     "data": {
      "image/png": "[encoded data removed]",
      "text/plain": [
       "<matplotlib.figure.Figure at 0x2ee83707f0>"
      ]
     },
     "metadata": {},
     "output_type": "display_data"
    }
   ],
   "source": [
    "N = len(df)\n",
    "x = df['Subject']\n",
    "y = df['Congruent']\n",
    "colors = 'blue'\n",
    "area = np.pi * 15 # 0 to 15 point radiuses\n",
    "\n",
    "fig = plt.figure()\n",
    "fig.suptitle('Congruent Words: ', fontsize=14, fontweight='bold')\n",
    "ax = fig.add_subplot(111)\n",
    "fig.subplots_adjust(top=0.85)\n",
    "ax.set_title('Sample Response Time Scatterplot')\n",
    "ax.set_xlabel('Subject #')\n",
    "ax.set_ylabel('Completion Time (seconds)')\n",
    "\n",
    "plt.xticks(np.arange(min(x), max(x)+1, 1.0))\n",
    "plt.yticks(np.arange(0, 35, 2))\n",
    "plt.scatter(x, y, s=area, c=colors, alpha=0.5)\n",
    "plt.ylim([0,35])\n",
    "plt.xlim([0,24])\n",
    "plt.show()"
   ]
  },
  {
   "cell_type": "code",
   "execution_count": 21,
   "metadata": {},
   "outputs": [
    {
     "data": {
      "image/png": "[encoded data removed]",
      "text/plain": [
       "<matplotlib.figure.Figure at 0x2ee8354e10>"
      ]
     },
     "metadata": {},
     "output_type": "display_data"
    }
   ],
   "source": [
    "N = len(df)\n",
    "x = df['Subject']\n",
    "y = df['Incongruent']\n",
    "colors = 'red'\n",
    "area = np.pi * 15 # 0 to 15 point radiuses\n",
    "\n",
    "fig = plt.figure()\n",
    "fig.suptitle('Incongruent Words: ', fontsize=14, fontweight='bold')\n",
    "ax = fig.add_subplot(111)\n",
    "fig.subplots_adjust(top=0.85)\n",
    "ax.set_title('Sample Response Time Scatterplot')\n",
    "ax.set_xlabel('Subject #')\n",
    "ax.set_ylabel('Completion Time (seconds)')\n",
    "\n",
    "plt.xticks(np.arange(min(x), max(x)+1, 1.0))\n",
    "plt.yticks(np.arange(0, 35, 2))\n",
    "plt.scatter(x, y, s=area, c=colors, alpha=0.5)\n",
    "plt.ylim([0,35])\n",
    "plt.xlim([0,24])\n",
    "plt.show()"
   ]
  },
  {
   "cell_type": "code",
   "execution_count": 30,
   "metadata": {},
   "outputs": [
    {
     "data": {
      "image/png": "[encoded data removed]",
      "text/plain": [
       "<matplotlib.figure.Figure at 0x2eeb0eb208>"
      ]
     },
     "metadata": {},
     "output_type": "display_data"
    }
   ],
   "source": [
    "plt.figure()\n",
    "plt.boxplot([cong, incong])\n",
    "plt.title('Boxplot For Congruent/Incongruent Words')\n",
    "plt.xticks([1, 2], ['Congruent', 'Incongruent'])\n",
    "plt.show()"
   ]
  },
  {
   "cell_type": "markdown",
   "metadata": {},
   "source": [
    "From both the scatter plot and box plot it can be easily seen that congruent response time is more quick than the incongruent response times. Congruent response times is around 15 in average, incongruent response times is around 22 in average."
   ]
  },
  {
   "cell_type": "markdown",
   "metadata": {},
   "source": [
    "<strong>5. Now, perform the statistical test and report your results. What is your confidence level and your critical statistic value? Do you reject the null hypothesis or fail to reject it? Come to a conclusion in terms of the experiment task. Did the results match up with your expectations? </strong>"
   ]
  },
  {
   "cell_type": "markdown",
   "metadata": {},
   "source": [
    "<ul>\n",
    "<li>Confidence Level = 90%\n",
    "<li>t-critical value (2-sided test) -> from [t-table](http://www.ttable.org/)\n",
    "<li>df = n - 1 = 24\n",
    "<li>tcrit = +- 1.711"
   ]
  },
  {
   "cell_type": "code",
   "execution_count": 33,
   "metadata": {},
   "outputs": [
    {
     "data": {
      "text/plain": [
       "24"
      ]
     },
     "execution_count": 33,
     "metadata": {},
     "output_type": "execute_result"
    }
   ],
   "source": [
    "#number of subjects in the sample\n",
    "n = len(df)\n",
    "n"
   ]
  },
  {
   "cell_type": "code",
   "execution_count": 36,
   "metadata": {},
   "outputs": [
    {
     "data": {
      "text/plain": [
       "7.96"
      ]
     },
     "execution_count": 36,
     "metadata": {},
     "output_type": "execute_result"
    }
   ],
   "source": [
    "\n",
    "#point estimate of μi - μc -> PE (in seconds)\n",
    "i_mean = incong.mean(); round(i_mean,2)\n",
    "c_mean = cong.mean(); round(c_mean,2)\n",
    "PE = i_mean - c_mean\n",
    "round(PE,2)\n"
   ]
  },
  {
   "cell_type": "code",
   "execution_count": 37,
   "metadata": {},
   "outputs": [
    {
     "data": {
      "text/plain": [
       "4.86"
      ]
     },
     "execution_count": 37,
     "metadata": {},
     "output_type": "execute_result"
    }
   ],
   "source": [
    "df['D'] = df['Incongruent'] - df['Congruent']\n",
    "\n",
    "#2. DFM = difference from the mean\n",
    "#SQD = squared differences from the mean\n",
    "DFM = df['D'] - df['D'].mean()\n",
    "df['SQD'] = DFM*DFM\n",
    "\n",
    "#3. SSD = sum of squared differences\n",
    "SSD = df['SQD'].sum()\n",
    "\n",
    "#4. v = variance = SSD/(n-1)\n",
    "v = SSD/(n-1)\n",
    "\n",
    "#5. s = sqrt(v)\n",
    "from math import *\n",
    "s = sqrt(v)\n",
    "round(s,2)"
   ]
  },
  {
   "cell_type": "code",
   "execution_count": 38,
   "metadata": {},
   "outputs": [
    {
     "data": {
      "text/plain": [
       "8.0206999999999997"
      ]
     },
     "execution_count": 38,
     "metadata": {},
     "output_type": "execute_result"
    }
   ],
   "source": [
    "#t-statistic\n",
    "#t = PE/(s/√n)\n",
    "#PE = (μi - μc)\n",
    "t = PE/(s/(sqrt(n)))\n",
    "round(t,4)"
   ]
  },
  {
   "cell_type": "markdown",
   "metadata": {},
   "source": [
    "### Conclusion \n",
    "Since the t-value from the table is +- 1.711 and the test result is 8.02. It is higher than the critical t value. So we reject the H0 (null hypothesis) and the response times for the congruent and incongruent words are different.\n"
   ]
  },
  {
   "cell_type": "markdown",
   "metadata": {},
   "source": [
    "### References\n",
    "<ul>\n",
    "<li>Hypothesis definition : Udacity videos.\n",
    "<li>T-Test definition : http://www.statisticshowto.com/probability-and-statistics/t-test/\n",
    "<li>T-table : http://www.ttable.org/\n",
    "<li>Blog : https://github.com/piyush2896/Test-A-Perceptual-Phenomenon/blob/master/Stroop_effect_testing_a_perceptual_phenomenon.pdf\n",
    "    https://github.com/piyush2896/Test-A-Perceptual-Phenomenon/blob/master/stroop_effect_test.py\n",
    "<li> http://www.statstutor.ac.uk/resources/uploaded/paired-t-test.pdf\n",
    "<li> http://influentialpoints.com/Training/paired_t-test-principles-properties-assumptions.htm\n",
    "</ul>\n"
   ]
  },
  {
   "cell_type": "code",
   "execution_count": null,
   "metadata": {},
   "outputs": [],
   "source": []
  }
 ],
 "metadata": {
  "kernelspec": {
   "display_name": "Python 3",
   "language": "python",
   "name": "python3"
  },
  "language_info": {
   "codemirror_mode": {
    "name": "ipython",
    "version": 3
   },
   "file_extension": ".py",
   "mimetype": "text/x-python",
   "name": "python",
   "nbconvert_exporter": "python",
   "pygments_lexer": "ipython3",
   "version": "3.5.4"
  }
 },
 "nbformat": 4,
 "nbformat_minor": 2
}
